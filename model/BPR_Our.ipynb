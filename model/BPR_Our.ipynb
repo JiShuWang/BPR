{
 "cells": [
  {
   "cell_type": "markdown",
   "id": "dbf1bbef",
   "metadata": {
    "pycharm": {
     "name": "#%% md\n"
    }
   },
   "source": [
    "# Import library and split data"
   ]
  },
  {
   "cell_type": "code",
   "execution_count": 4,
   "id": "9e933a87",
   "metadata": {
    "pycharm": {
     "name": "#%%\n"
    }
   },
   "outputs": [],
   "source": [
    "import pandas as pd"
   ]
  },
  {
   "cell_type": "code",
   "execution_count": 5,
   "id": "c3f75fcd",
   "metadata": {
    "pycharm": {
     "name": "#%%\n"
    }
   },
   "outputs": [
    {
     "data": {
      "text/html": [
       "<div>\n",
       "<style scoped>\n",
       "    .dataframe tbody tr th:only-of-type {\n",
       "        vertical-align: middle;\n",
       "    }\n",
       "\n",
       "    .dataframe tbody tr th {\n",
       "        vertical-align: top;\n",
       "    }\n",
       "\n",
       "    .dataframe thead th {\n",
       "        text-align: right;\n",
       "    }\n",
       "</style>\n",
       "<table border=\"1\" class=\"dataframe\">\n",
       "  <thead>\n",
       "    <tr style=\"text-align: right;\">\n",
       "      <th></th>\n",
       "      <th>Send Rates</th>\n",
       "      <th>Block Size</th>\n",
       "      <th>Avg Latency</th>\n",
       "      <th>Throughput</th>\n",
       "    </tr>\n",
       "  </thead>\n",
       "  <tbody>\n",
       "    <tr>\n",
       "      <th>0</th>\n",
       "      <td>10.0</td>\n",
       "      <td>10</td>\n",
       "      <td>0.32</td>\n",
       "      <td>10.0</td>\n",
       "    </tr>\n",
       "    <tr>\n",
       "      <th>1</th>\n",
       "      <td>10.0</td>\n",
       "      <td>20</td>\n",
       "      <td>0.82</td>\n",
       "      <td>10.0</td>\n",
       "    </tr>\n",
       "    <tr>\n",
       "      <th>2</th>\n",
       "      <td>10.0</td>\n",
       "      <td>30</td>\n",
       "      <td>1.18</td>\n",
       "      <td>9.8</td>\n",
       "    </tr>\n",
       "    <tr>\n",
       "      <th>3</th>\n",
       "      <td>10.0</td>\n",
       "      <td>40</td>\n",
       "      <td>1.18</td>\n",
       "      <td>9.8</td>\n",
       "    </tr>\n",
       "    <tr>\n",
       "      <th>4</th>\n",
       "      <td>10.0</td>\n",
       "      <td>50</td>\n",
       "      <td>1.18</td>\n",
       "      <td>9.8</td>\n",
       "    </tr>\n",
       "    <tr>\n",
       "      <th>...</th>\n",
       "      <td>...</td>\n",
       "      <td>...</td>\n",
       "      <td>...</td>\n",
       "      <td>...</td>\n",
       "    </tr>\n",
       "    <tr>\n",
       "      <th>3115</th>\n",
       "      <td>194.1</td>\n",
       "      <td>760</td>\n",
       "      <td>2.57</td>\n",
       "      <td>153.0</td>\n",
       "    </tr>\n",
       "    <tr>\n",
       "      <th>3116</th>\n",
       "      <td>200.7</td>\n",
       "      <td>770</td>\n",
       "      <td>2.33</td>\n",
       "      <td>154.8</td>\n",
       "    </tr>\n",
       "    <tr>\n",
       "      <th>3117</th>\n",
       "      <td>195.1</td>\n",
       "      <td>780</td>\n",
       "      <td>2.17</td>\n",
       "      <td>158.4</td>\n",
       "    </tr>\n",
       "    <tr>\n",
       "      <th>3118</th>\n",
       "      <td>192.4</td>\n",
       "      <td>790</td>\n",
       "      <td>2.26</td>\n",
       "      <td>156.3</td>\n",
       "    </tr>\n",
       "    <tr>\n",
       "      <th>3119</th>\n",
       "      <td>192.5</td>\n",
       "      <td>800</td>\n",
       "      <td>2.02</td>\n",
       "      <td>157.1</td>\n",
       "    </tr>\n",
       "  </tbody>\n",
       "</table>\n",
       "<p>3120 rows × 4 columns</p>\n",
       "</div>"
      ],
      "text/plain": [
       "      Send Rates  Block Size  Avg Latency  Throughput\n",
       "0           10.0          10         0.32        10.0\n",
       "1           10.0          20         0.82        10.0\n",
       "2           10.0          30         1.18         9.8\n",
       "3           10.0          40         1.18         9.8\n",
       "4           10.0          50         1.18         9.8\n",
       "...          ...         ...          ...         ...\n",
       "3115       194.1         760         2.57       153.0\n",
       "3116       200.7         770         2.33       154.8\n",
       "3117       195.1         780         2.17       158.4\n",
       "3118       192.4         790         2.26       156.3\n",
       "3119       192.5         800         2.02       157.1\n",
       "\n",
       "[3120 rows x 4 columns]"
      ]
     },
     "execution_count": 5,
     "metadata": {},
     "output_type": "execute_result"
    }
   ],
   "source": [
    "df = pd.read_csv('../../Data/Blockchain Performance Data/Our/BPD.csv')\n",
    "df"
   ]
  },
  {
   "cell_type": "code",
   "execution_count": 6,
   "id": "87cc3a5c",
   "metadata": {
    "pycharm": {
     "name": "#%%\n"
    }
   },
   "outputs": [
    {
     "data": {
      "text/plain": [
       "array([[1.000e+01, 1.000e+01, 3.200e-01, 1.000e+01],\n",
       "       [1.000e+01, 2.000e+01, 8.200e-01, 1.000e+01],\n",
       "       [1.000e+01, 3.000e+01, 1.180e+00, 9.800e+00],\n",
       "       ...,\n",
       "       [1.951e+02, 7.800e+02, 2.170e+00, 1.584e+02],\n",
       "       [1.924e+02, 7.900e+02, 2.260e+00, 1.563e+02],\n",
       "       [1.925e+02, 8.000e+02, 2.020e+00, 1.571e+02]])"
      ]
     },
     "execution_count": 6,
     "metadata": {},
     "output_type": "execute_result"
    }
   ],
   "source": [
    "xy = df.values\n",
    "xy"
   ]
  },
  {
   "cell_type": "code",
   "execution_count": 7,
   "id": "8dea8c34",
   "metadata": {
    "pycharm": {
     "name": "#%%\n"
    }
   },
   "outputs": [],
   "source": [
    "import torch\n",
    "import numpy as np\n",
    "from torch.utils.data import Dataset\n",
    "from torch.utils.data import DataLoader\n",
    "from sklearn import preprocessing\n",
    "from sklearn.model_selection import train_test_split"
   ]
  },
  {
   "cell_type": "code",
   "execution_count": 8,
   "id": "0efe76e5",
   "metadata": {
    "pycharm": {
     "name": "#%%\n"
    }
   },
   "outputs": [
    {
     "data": {
      "text/plain": [
       "<torch._C.Generator at 0x187fd9b1210>"
      ]
     },
     "execution_count": 8,
     "metadata": {},
     "output_type": "execute_result"
    }
   ],
   "source": [
    "# set random seed\n",
    "seed = 42\n",
    "torch.manual_seed(seed)"
   ]
  },
  {
   "cell_type": "code",
   "execution_count": 9,
   "id": "edae8d8c",
   "metadata": {
    "pycharm": {
     "name": "#%%\n"
    }
   },
   "outputs": [],
   "source": [
    "# Read raw data and divide training set and test set\n",
    "raw_data = xy\n",
    "X = raw_data[:, :2]\n",
    "Y1 = raw_data[:, -2:-1]\n",
    "Y2 = raw_data[:, -1:]"
   ]
  },
  {
   "cell_type": "code",
   "execution_count": 10,
   "id": "34886bb7",
   "metadata": {
    "pycharm": {
     "name": "#%%\n"
    }
   },
   "outputs": [
    {
     "data": {
      "text/plain": [
       "array([[ 10. ,  10. ],\n",
       "       [ 10. ,  20. ],\n",
       "       [ 10. ,  30. ],\n",
       "       ...,\n",
       "       [195.1, 780. ],\n",
       "       [192.4, 790. ],\n",
       "       [192.5, 800. ]])"
      ]
     },
     "execution_count": 10,
     "metadata": {},
     "output_type": "execute_result"
    }
   ],
   "source": [
    "X"
   ]
  },
  {
   "cell_type": "code",
   "execution_count": 11,
   "id": "650810a9",
   "metadata": {
    "pycharm": {
     "name": "#%%\n"
    }
   },
   "outputs": [
    {
     "data": {
      "text/plain": [
       "array([[0.32],\n",
       "       [0.82],\n",
       "       [1.18],\n",
       "       ...,\n",
       "       [2.17],\n",
       "       [2.26],\n",
       "       [2.02]])"
      ]
     },
     "execution_count": 11,
     "metadata": {},
     "output_type": "execute_result"
    }
   ],
   "source": [
    "Y1"
   ]
  },
  {
   "cell_type": "code",
   "execution_count": 12,
   "id": "4d85c76d",
   "metadata": {
    "pycharm": {
     "name": "#%%\n"
    }
   },
   "outputs": [
    {
     "data": {
      "text/plain": [
       "array([[ 10. ],\n",
       "       [ 10. ],\n",
       "       [  9.8],\n",
       "       ...,\n",
       "       [158.4],\n",
       "       [156.3],\n",
       "       [157.1]])"
      ]
     },
     "execution_count": 12,
     "metadata": {},
     "output_type": "execute_result"
    }
   ],
   "source": [
    "Y2"
   ]
  },
  {
   "cell_type": "markdown",
   "id": "b28a82a8",
   "metadata": {
    "pycharm": {
     "name": "#%% md\n"
    }
   },
   "source": [
    "# MLP1(send rates, block size) = latency"
   ]
  },
  {
   "cell_type": "code",
   "execution_count": 13,
   "id": "a0458870",
   "metadata": {
    "pycharm": {
     "name": "#%%\n"
    }
   },
   "outputs": [],
   "source": [
    "# Split training set and test set\n",
    "Xtrain1, Xtest1, Ytrain1, Ytest1 = train_test_split(X, Y1, test_size=0.2, random_state=1)"
   ]
  },
  {
   "cell_type": "code",
   "execution_count": 14,
   "id": "9bdee55f",
   "metadata": {
    "pycharm": {
     "name": "#%%\n"
    },
    "scrolled": true
   },
   "outputs": [
    {
     "data": {
      "text/plain": [
       "array([[190.2, 720. ],\n",
       "       [ 15.1, 310. ],\n",
       "       [ 75.3,  40. ],\n",
       "       ...,\n",
       "       [105.4, 440. ],\n",
       "       [100.1,  80. ],\n",
       "       [110.5,  20. ]])"
      ]
     },
     "execution_count": 14,
     "metadata": {},
     "output_type": "execute_result"
    }
   ],
   "source": [
    "# test set\n",
    "Xtest1"
   ]
  },
  {
   "cell_type": "code",
   "execution_count": 15,
   "id": "ec3253d7",
   "metadata": {
    "pycharm": {
     "name": "#%%\n"
    },
    "scrolled": true
   },
   "outputs": [
    {
     "data": {
      "text/plain": [
       "array([[2.99],\n",
       "       [1.18],\n",
       "       [0.33],\n",
       "       [1.16],\n",
       "       [1.15],\n",
       "       [1.55],\n",
       "       [0.9 ],\n",
       "       [0.81],\n",
       "       [1.2 ],\n",
       "       [1.22],\n",
       "       [1.23],\n",
       "       [1.28],\n",
       "       [0.92],\n",
       "       [1.18],\n",
       "       [0.91],\n",
       "       [0.26],\n",
       "       [1.18],\n",
       "       [1.26],\n",
       "       [1.17],\n",
       "       [0.87],\n",
       "       [1.18],\n",
       "       [0.92],\n",
       "       [0.94],\n",
       "       [1.24],\n",
       "       [0.88],\n",
       "       [1.19],\n",
       "       [2.32],\n",
       "       [1.01],\n",
       "       [1.66],\n",
       "       [0.76],\n",
       "       [0.77],\n",
       "       [1.34],\n",
       "       [0.89],\n",
       "       [1.19],\n",
       "       [0.65],\n",
       "       [0.83],\n",
       "       [1.13],\n",
       "       [2.57],\n",
       "       [0.92],\n",
       "       [1.2 ],\n",
       "       [0.97],\n",
       "       [0.89],\n",
       "       [0.88],\n",
       "       [1.16],\n",
       "       [2.29],\n",
       "       [0.47],\n",
       "       [1.15],\n",
       "       [0.93],\n",
       "       [0.85],\n",
       "       [0.8 ],\n",
       "       [1.19],\n",
       "       [2.56],\n",
       "       [1.18],\n",
       "       [1.73],\n",
       "       [1.23],\n",
       "       [1.45],\n",
       "       [2.1 ],\n",
       "       [1.27],\n",
       "       [1.52],\n",
       "       [0.85],\n",
       "       [1.17],\n",
       "       [0.95],\n",
       "       [0.86],\n",
       "       [0.25],\n",
       "       [0.84],\n",
       "       [0.9 ],\n",
       "       [1.09],\n",
       "       [0.84],\n",
       "       [1.24],\n",
       "       [0.91],\n",
       "       [1.2 ],\n",
       "       [1.25],\n",
       "       [1.58],\n",
       "       [2.9 ],\n",
       "       [1.59],\n",
       "       [1.1 ],\n",
       "       [2.33],\n",
       "       [1.21],\n",
       "       [1.25],\n",
       "       [0.87],\n",
       "       [2.18],\n",
       "       [1.25],\n",
       "       [0.86],\n",
       "       [1.38],\n",
       "       [2.14],\n",
       "       [1.48],\n",
       "       [1.26],\n",
       "       [1.18],\n",
       "       [0.93],\n",
       "       [1.  ],\n",
       "       [1.11],\n",
       "       [1.21],\n",
       "       [1.03],\n",
       "       [0.81],\n",
       "       [1.17],\n",
       "       [1.24],\n",
       "       [1.17],\n",
       "       [1.24],\n",
       "       [0.45],\n",
       "       [1.31],\n",
       "       [1.15],\n",
       "       [1.3 ],\n",
       "       [2.17],\n",
       "       [0.9 ],\n",
       "       [1.07],\n",
       "       [2.36],\n",
       "       [1.17],\n",
       "       [1.77],\n",
       "       [1.25],\n",
       "       [1.68],\n",
       "       [1.89],\n",
       "       [0.89],\n",
       "       [0.43],\n",
       "       [0.92],\n",
       "       [0.59],\n",
       "       [1.16],\n",
       "       [1.6 ],\n",
       "       [0.67],\n",
       "       [0.94],\n",
       "       [0.96],\n",
       "       [1.04],\n",
       "       [0.95],\n",
       "       [0.97],\n",
       "       [0.87],\n",
       "       [0.88],\n",
       "       [1.16],\n",
       "       [0.8 ],\n",
       "       [0.92],\n",
       "       [1.17],\n",
       "       [0.84],\n",
       "       [1.16],\n",
       "       [0.86],\n",
       "       [1.66],\n",
       "       [0.95],\n",
       "       [1.88],\n",
       "       [0.87],\n",
       "       [1.12],\n",
       "       [1.17],\n",
       "       [1.18],\n",
       "       [1.87],\n",
       "       [1.75],\n",
       "       [3.07],\n",
       "       [0.94],\n",
       "       [0.93],\n",
       "       [0.87],\n",
       "       [1.27],\n",
       "       [0.8 ],\n",
       "       [1.24],\n",
       "       [1.18],\n",
       "       [1.02],\n",
       "       [0.95],\n",
       "       [0.85],\n",
       "       [1.16],\n",
       "       [0.64],\n",
       "       [1.2 ],\n",
       "       [1.57],\n",
       "       [0.58],\n",
       "       [1.18],\n",
       "       [1.16],\n",
       "       [1.23],\n",
       "       [1.3 ],\n",
       "       [1.27],\n",
       "       [1.19],\n",
       "       [0.88],\n",
       "       [1.12],\n",
       "       [0.47],\n",
       "       [0.84],\n",
       "       [1.2 ],\n",
       "       [1.08],\n",
       "       [1.66],\n",
       "       [1.16],\n",
       "       [1.45],\n",
       "       [1.14],\n",
       "       [1.08],\n",
       "       [1.16],\n",
       "       [0.89],\n",
       "       [0.92],\n",
       "       [2.21],\n",
       "       [0.83],\n",
       "       [0.81],\n",
       "       [1.18],\n",
       "       [0.94],\n",
       "       [2.  ],\n",
       "       [0.92],\n",
       "       [1.21],\n",
       "       [1.62],\n",
       "       [0.84],\n",
       "       [0.93],\n",
       "       [0.16],\n",
       "       [2.18],\n",
       "       [1.18],\n",
       "       [2.24],\n",
       "       [1.27],\n",
       "       [1.32],\n",
       "       [1.04],\n",
       "       [0.88],\n",
       "       [0.92],\n",
       "       [1.23],\n",
       "       [1.17],\n",
       "       [1.36],\n",
       "       [0.93],\n",
       "       [2.08],\n",
       "       [0.91],\n",
       "       [1.28],\n",
       "       [0.85],\n",
       "       [0.88],\n",
       "       [0.31],\n",
       "       [2.14],\n",
       "       [1.24],\n",
       "       [1.18],\n",
       "       [0.94],\n",
       "       [1.16],\n",
       "       [1.07],\n",
       "       [0.95],\n",
       "       [0.94],\n",
       "       [2.3 ],\n",
       "       [1.08],\n",
       "       [0.96],\n",
       "       [1.93],\n",
       "       [1.25],\n",
       "       [0.93],\n",
       "       [0.88],\n",
       "       [1.25],\n",
       "       [2.52],\n",
       "       [2.07],\n",
       "       [1.17],\n",
       "       [0.89],\n",
       "       [2.19],\n",
       "       [1.11],\n",
       "       [1.23],\n",
       "       [1.22],\n",
       "       [1.19],\n",
       "       [1.17],\n",
       "       [0.8 ],\n",
       "       [0.9 ],\n",
       "       [1.26],\n",
       "       [0.29],\n",
       "       [1.46],\n",
       "       [2.59],\n",
       "       [0.47],\n",
       "       [1.25],\n",
       "       [1.17],\n",
       "       [0.95],\n",
       "       [1.91],\n",
       "       [0.51],\n",
       "       [1.07],\n",
       "       [1.75],\n",
       "       [0.92],\n",
       "       [2.55],\n",
       "       [0.87],\n",
       "       [2.03],\n",
       "       [1.99],\n",
       "       [0.93],\n",
       "       [1.03],\n",
       "       [0.92],\n",
       "       [2.1 ],\n",
       "       [0.54],\n",
       "       [1.68],\n",
       "       [1.03],\n",
       "       [1.18],\n",
       "       [0.87],\n",
       "       [0.89],\n",
       "       [2.23],\n",
       "       [1.17],\n",
       "       [0.68],\n",
       "       [0.92],\n",
       "       [0.9 ],\n",
       "       [1.47],\n",
       "       [1.45],\n",
       "       [0.97],\n",
       "       [1.18],\n",
       "       [1.15],\n",
       "       [0.86],\n",
       "       [1.19],\n",
       "       [1.15],\n",
       "       [1.17],\n",
       "       [0.89],\n",
       "       [1.64],\n",
       "       [0.49],\n",
       "       [1.2 ],\n",
       "       [1.22],\n",
       "       [0.5 ],\n",
       "       [0.94],\n",
       "       [1.02],\n",
       "       [2.13],\n",
       "       [1.23],\n",
       "       [1.24],\n",
       "       [1.15],\n",
       "       [0.82],\n",
       "       [0.82],\n",
       "       [2.32],\n",
       "       [1.21],\n",
       "       [1.82],\n",
       "       [1.87],\n",
       "       [0.64],\n",
       "       [1.17],\n",
       "       [1.25],\n",
       "       [0.88],\n",
       "       [0.85],\n",
       "       [0.9 ],\n",
       "       [1.02],\n",
       "       [0.91],\n",
       "       [0.94],\n",
       "       [1.09],\n",
       "       [1.24],\n",
       "       [1.24],\n",
       "       [0.9 ],\n",
       "       [0.67],\n",
       "       [0.89],\n",
       "       [2.73],\n",
       "       [0.91],\n",
       "       [1.18],\n",
       "       [1.23],\n",
       "       [2.38],\n",
       "       [1.83],\n",
       "       [1.28],\n",
       "       [0.82],\n",
       "       [1.07],\n",
       "       [2.16],\n",
       "       [1.2 ],\n",
       "       [1.99],\n",
       "       [0.9 ],\n",
       "       [2.57],\n",
       "       [1.17],\n",
       "       [1.17],\n",
       "       [1.97],\n",
       "       [1.18],\n",
       "       [0.88],\n",
       "       [0.92],\n",
       "       [1.21],\n",
       "       [1.76],\n",
       "       [1.15],\n",
       "       [2.19],\n",
       "       [0.93],\n",
       "       [1.16],\n",
       "       [2.13],\n",
       "       [0.92],\n",
       "       [0.93],\n",
       "       [0.93],\n",
       "       [0.89],\n",
       "       [1.17],\n",
       "       [1.17],\n",
       "       [1.4 ],\n",
       "       [1.16],\n",
       "       [1.32],\n",
       "       [2.22],\n",
       "       [1.15],\n",
       "       [0.99],\n",
       "       [2.5 ],\n",
       "       [1.15],\n",
       "       [0.91],\n",
       "       [1.21],\n",
       "       [1.17],\n",
       "       [1.2 ],\n",
       "       [1.66],\n",
       "       [0.97],\n",
       "       [0.85],\n",
       "       [1.21],\n",
       "       [2.06],\n",
       "       [0.94],\n",
       "       [1.99],\n",
       "       [1.76],\n",
       "       [1.04],\n",
       "       [1.05],\n",
       "       [2.71],\n",
       "       [0.97],\n",
       "       [0.88],\n",
       "       [0.91],\n",
       "       [2.45],\n",
       "       [0.95],\n",
       "       [1.13],\n",
       "       [1.25],\n",
       "       [0.94],\n",
       "       [0.94],\n",
       "       [0.92],\n",
       "       [1.19],\n",
       "       [1.2 ],\n",
       "       [0.88],\n",
       "       [2.05],\n",
       "       [0.99],\n",
       "       [1.19],\n",
       "       [0.7 ],\n",
       "       [1.11],\n",
       "       [2.12],\n",
       "       [0.88],\n",
       "       [0.85],\n",
       "       [0.81],\n",
       "       [1.19],\n",
       "       [2.04],\n",
       "       [1.2 ],\n",
       "       [0.91],\n",
       "       [2.5 ],\n",
       "       [1.18],\n",
       "       [1.17],\n",
       "       [1.01],\n",
       "       [1.17],\n",
       "       [1.18],\n",
       "       [1.28],\n",
       "       [1.27],\n",
       "       [0.96],\n",
       "       [1.53],\n",
       "       [1.11],\n",
       "       [0.91],\n",
       "       [0.93],\n",
       "       [1.18],\n",
       "       [0.88],\n",
       "       [2.35],\n",
       "       [0.91],\n",
       "       [0.95],\n",
       "       [1.2 ],\n",
       "       [1.84],\n",
       "       [1.16],\n",
       "       [1.27],\n",
       "       [1.02],\n",
       "       [2.25],\n",
       "       [1.19],\n",
       "       [1.16],\n",
       "       [0.97],\n",
       "       [1.16],\n",
       "       [2.35],\n",
       "       [1.96],\n",
       "       [1.31],\n",
       "       [1.82],\n",
       "       [0.97],\n",
       "       [1.26],\n",
       "       [0.91],\n",
       "       [1.1 ],\n",
       "       [0.83],\n",
       "       [0.92],\n",
       "       [0.98],\n",
       "       [1.1 ],\n",
       "       [0.83],\n",
       "       [1.82],\n",
       "       [0.95],\n",
       "       [0.45],\n",
       "       [0.87],\n",
       "       [1.24],\n",
       "       [0.93],\n",
       "       [2.17],\n",
       "       [1.17],\n",
       "       [1.16],\n",
       "       [2.11],\n",
       "       [0.93],\n",
       "       [2.57],\n",
       "       [1.82],\n",
       "       [2.21],\n",
       "       [1.15],\n",
       "       [1.03],\n",
       "       [0.48],\n",
       "       [1.31],\n",
       "       [1.23],\n",
       "       [1.18],\n",
       "       [1.25],\n",
       "       [0.51],\n",
       "       [0.96],\n",
       "       [0.9 ],\n",
       "       [2.45],\n",
       "       [1.21],\n",
       "       [1.02],\n",
       "       [0.99],\n",
       "       [1.24],\n",
       "       [1.1 ],\n",
       "       [1.27],\n",
       "       [2.12],\n",
       "       [1.83],\n",
       "       [1.33],\n",
       "       [0.84],\n",
       "       [2.2 ],\n",
       "       [0.9 ],\n",
       "       [1.23],\n",
       "       [0.51],\n",
       "       [1.66],\n",
       "       [0.83],\n",
       "       [1.17],\n",
       "       [0.94],\n",
       "       [1.02],\n",
       "       [2.45],\n",
       "       [0.89],\n",
       "       [1.17],\n",
       "       [1.  ],\n",
       "       [1.8 ],\n",
       "       [2.19],\n",
       "       [0.58],\n",
       "       [1.19],\n",
       "       [1.84],\n",
       "       [1.19],\n",
       "       [0.84],\n",
       "       [1.74],\n",
       "       [1.17],\n",
       "       [1.05],\n",
       "       [1.64],\n",
       "       [1.3 ],\n",
       "       [1.14],\n",
       "       [0.94],\n",
       "       [1.93],\n",
       "       [0.84],\n",
       "       [2.48],\n",
       "       [0.89],\n",
       "       [1.17],\n",
       "       [0.86],\n",
       "       [1.06],\n",
       "       [1.16],\n",
       "       [0.93],\n",
       "       [1.03],\n",
       "       [1.02],\n",
       "       [0.92],\n",
       "       [0.83],\n",
       "       [1.18],\n",
       "       [0.87],\n",
       "       [1.2 ],\n",
       "       [0.91],\n",
       "       [0.9 ],\n",
       "       [0.78],\n",
       "       [2.08],\n",
       "       [0.5 ],\n",
       "       [1.18],\n",
       "       [1.03],\n",
       "       [0.86],\n",
       "       [0.88],\n",
       "       [1.21],\n",
       "       [0.88],\n",
       "       [1.01],\n",
       "       [0.86],\n",
       "       [0.26],\n",
       "       [0.96],\n",
       "       [2.75],\n",
       "       [0.08],\n",
       "       [1.26],\n",
       "       [2.41],\n",
       "       [0.85],\n",
       "       [0.95],\n",
       "       [1.98],\n",
       "       [1.2 ],\n",
       "       [2.22],\n",
       "       [1.17],\n",
       "       [0.97],\n",
       "       [2.41],\n",
       "       [1.23],\n",
       "       [1.24],\n",
       "       [1.21],\n",
       "       [1.17],\n",
       "       [1.16],\n",
       "       [1.2 ],\n",
       "       [1.26],\n",
       "       [0.1 ],\n",
       "       [1.61],\n",
       "       [2.4 ],\n",
       "       [0.88],\n",
       "       [0.83],\n",
       "       [1.16],\n",
       "       [2.32],\n",
       "       [1.03],\n",
       "       [1.02],\n",
       "       [1.23],\n",
       "       [1.16],\n",
       "       [0.89],\n",
       "       [0.94],\n",
       "       [1.02],\n",
       "       [1.51],\n",
       "       [0.88],\n",
       "       [2.54],\n",
       "       [1.06],\n",
       "       [1.17],\n",
       "       [0.89],\n",
       "       [1.24],\n",
       "       [0.94],\n",
       "       [1.14],\n",
       "       [1.17],\n",
       "       [0.88],\n",
       "       [1.7 ],\n",
       "       [1.24],\n",
       "       [1.1 ],\n",
       "       [0.93],\n",
       "       [0.5 ],\n",
       "       [1.18],\n",
       "       [1.54],\n",
       "       [1.23],\n",
       "       [1.19],\n",
       "       [1.66],\n",
       "       [1.26],\n",
       "       [1.18],\n",
       "       [0.9 ],\n",
       "       [1.08],\n",
       "       [1.71],\n",
       "       [0.9 ],\n",
       "       [1.02],\n",
       "       [0.87],\n",
       "       [0.9 ],\n",
       "       [1.63],\n",
       "       [0.92],\n",
       "       [1.17],\n",
       "       [0.89],\n",
       "       [0.62],\n",
       "       [0.93],\n",
       "       [0.84],\n",
       "       [0.87],\n",
       "       [0.98],\n",
       "       [2.13],\n",
       "       [0.82],\n",
       "       [1.25],\n",
       "       [1.04],\n",
       "       [0.91],\n",
       "       [1.18],\n",
       "       [0.92],\n",
       "       [1.25],\n",
       "       [1.17],\n",
       "       [0.88],\n",
       "       [1.16],\n",
       "       [1.19],\n",
       "       [1.33],\n",
       "       [2.49],\n",
       "       [1.16],\n",
       "       [1.34],\n",
       "       [0.92],\n",
       "       [1.27],\n",
       "       [1.18],\n",
       "       [1.06],\n",
       "       [0.95],\n",
       "       [1.08],\n",
       "       [2.36],\n",
       "       [0.88],\n",
       "       [0.87],\n",
       "       [0.65],\n",
       "       [0.2 ]])"
      ]
     },
     "execution_count": 15,
     "metadata": {},
     "output_type": "execute_result"
    }
   ],
   "source": [
    "Ytest1"
   ]
  },
  {
   "cell_type": "code",
   "execution_count": 16,
   "id": "cec710d5",
   "metadata": {
    "pycharm": {
     "name": "#%%\n"
    }
   },
   "outputs": [],
   "source": [
    "# property scaling\n",
    "min_max_scaler1 = preprocessing.MinMaxScaler()"
   ]
  },
  {
   "cell_type": "code",
   "execution_count": 17,
   "id": "3f6ca873",
   "metadata": {
    "pycharm": {
     "name": "#%%\n"
    }
   },
   "outputs": [
    {
     "data": {
      "text/plain": [
       "array([[0.8427673 , 0.51898734],\n",
       "       [0.39412998, 0.92405063],\n",
       "       [0.52568134, 0.46835443],\n",
       "       ...,\n",
       "       [0.34224319, 0.70886076],\n",
       "       [0.05293501, 0.94936709],\n",
       "       [0.34224319, 0.26582278]])"
      ]
     },
     "execution_count": 17,
     "metadata": {},
     "output_type": "execute_result"
    }
   ],
   "source": [
    "# Scaling training set data\n",
    "Xtrain1_minmax = min_max_scaler1.fit_transform(Xtrain1)\n",
    "Xtrain1_minmax"
   ]
  },
  {
   "cell_type": "code",
   "execution_count": 18,
   "id": "d632a673",
   "metadata": {
    "pycharm": {
     "name": "#%%\n"
    },
    "scrolled": true
   },
   "outputs": [
    {
     "data": {
      "text/plain": [
       "array([[0.94444444, 0.89873418],\n",
       "       [0.02672956, 0.37974684],\n",
       "       [0.34224319, 0.03797468],\n",
       "       ...,\n",
       "       [0.5       , 0.5443038 ],\n",
       "       [0.47222222, 0.08860759],\n",
       "       [0.52672956, 0.01265823]])"
      ]
     },
     "execution_count": 18,
     "metadata": {},
     "output_type": "execute_result"
    }
   ],
   "source": [
    "# Apply the same scaling to the test set data\n",
    "Xtest1_minmax = min_max_scaler1.transform(Xtest1)\n",
    "Xtest1_minmax"
   ]
  },
  {
   "cell_type": "code",
   "execution_count": 19,
   "id": "fa52ed0a",
   "metadata": {
    "pycharm": {
     "name": "#%%\n"
    }
   },
   "outputs": [],
   "source": [
    "Xtest1_tensor = torch.from_numpy(Xtest1_minmax).type(torch.float32)\n",
    "Ytest1_tensor = torch.from_numpy(Ytest1).type(torch.float32)"
   ]
  },
  {
   "cell_type": "code",
   "execution_count": 20,
   "id": "e5b318ea",
   "metadata": {
    "pycharm": {
     "name": "#%%\n"
    },
    "scrolled": true
   },
   "outputs": [
    {
     "data": {
      "text/plain": [
       "tensor([[0.9444, 0.8987],\n",
       "        [0.0267, 0.3797],\n",
       "        [0.3422, 0.0380],\n",
       "        ...,\n",
       "        [0.5000, 0.5443],\n",
       "        [0.4722, 0.0886],\n",
       "        [0.5267, 0.0127]])"
      ]
     },
     "execution_count": 20,
     "metadata": {},
     "output_type": "execute_result"
    }
   ],
   "source": [
    "Xtest1_tensor"
   ]
  },
  {
   "cell_type": "code",
   "execution_count": 21,
   "id": "832155d9",
   "metadata": {
    "pycharm": {
     "name": "#%%\n"
    }
   },
   "outputs": [],
   "source": [
    "# batch the training dataset\n",
    "# prepare dataset\n",
    "class BlockChainDataset(Dataset):\n",
    "    def __init__(self, data, label):\n",
    "        self.len = data.shape[0]\n",
    "        self.x_data = torch.from_numpy(data).type(torch.float32)\n",
    "        self.y_data = torch.from_numpy(label).type(torch.float32)\n",
    "        \n",
    "        \n",
    "    def __getitem__(self, index):\n",
    "        return self.x_data[index], self.y_data[index]\n",
    "    \n",
    "    def __len__(self):\n",
    "        return self.len"
   ]
  },
  {
   "cell_type": "code",
   "execution_count": 22,
   "id": "a69f3f89",
   "metadata": {
    "pycharm": {
     "name": "#%%\n"
    }
   },
   "outputs": [],
   "source": [
    "train_dataset = BlockChainDataset(Xtrain1_minmax, Ytrain1)\n",
    "train_loader = DataLoader(dataset=train_dataset, batch_size=32, shuffle=False)"
   ]
  },
  {
   "cell_type": "code",
   "execution_count": 23,
   "id": "14cf2abc",
   "metadata": {
    "pycharm": {
     "name": "#%%\n"
    }
   },
   "outputs": [],
   "source": [
    "import torch.nn as nn\n",
    "import torch.optim as optim"
   ]
  },
  {
   "cell_type": "code",
   "execution_count": 24,
   "id": "af6478ab",
   "metadata": {
    "pycharm": {
     "name": "#%%\n"
    }
   },
   "outputs": [],
   "source": [
    "# design model using class\n",
    "class Lat(torch.nn.Module):\n",
    "    def __init__(self):\n",
    "        super(Lat, self).__init__()\n",
    "        self.fc1 = nn.Linear(2, 64)\n",
    "        self.fc2 = nn.Linear(64, 8)\n",
    "        self.relu = nn.ReLU()\n",
    "        self.fc3 = nn.Linear(8, 1)\n",
    "        self.dropout = nn.Dropout(p=0.5)\n",
    "        \n",
    "    def forward(self, x):\n",
    "        out = self.fc1(x)\n",
    "        out = self.dropout(out)\n",
    "        out = self.relu(out)\n",
    "        out = self.fc2(out)\n",
    "        out = self.dropout(out)\n",
    "        out = self.relu(out)\n",
    "        out = self.fc3(out)\n",
    "        return out\n",
    "    \n",
    "    \n",
    "model = Lat()"
   ]
  },
  {
   "cell_type": "code",
   "execution_count": 25,
   "id": "6f533b5c",
   "metadata": {
    "pycharm": {
     "name": "#%%\n"
    }
   },
   "outputs": [],
   "source": [
    "# net = nn.Sequential(\n",
    "#     nn.Linear(2, 64), nn.BatchNorm1d(64), nn.Dropout(p=0.5), nn.ReLU(),\n",
    "#     nn.Linear(64, 64), nn.BatchNorm1d(64), nn.Dropout(p=0.5), nn.ReLU(),\n",
    "#     nn.Linear(64, 1))\n",
    "\n",
    "\n",
    "# model = net"
   ]
  },
  {
   "cell_type": "code",
   "execution_count": 26,
   "id": "d1044383",
   "metadata": {
    "pycharm": {
     "name": "#%%\n"
    }
   },
   "outputs": [],
   "source": [
    "# construct loss and optimizer\n",
    "criterion = nn.MSELoss()\n",
    "optimizer = optim.Adam(model.parameters(), lr=0.001)"
   ]
  },
  {
   "cell_type": "code",
   "execution_count": 27,
   "id": "f46b24ba",
   "metadata": {
    "pycharm": {
     "name": "#%%\n"
    }
   },
   "outputs": [],
   "source": [
    "# traning cycle forward, backward, update\n",
    "def train(epoch):\n",
    "    train_loss = 0.0\n",
    "    for batch_idx, (inputs, labels) in enumerate(train_loader, 0):\n",
    "        y_pred = model(inputs)\n",
    "        loss = criterion(y_pred, labels)\n",
    "        optimizer.zero_grad()\n",
    "        loss.backward()\n",
    "        optimizer.step()\n",
    "        train_loss += loss.item() * labels.shape[0]\n",
    "    if (epoch + 1) % 10 == 0:\n",
    "        print('epoch:', epoch + 1, 'train_loss:', train_loss / len(Xtrain1))\n",
    "        \n",
    "\n",
    "def test():\n",
    "    with torch.no_grad():\n",
    "        y_pred = model(Xtest1_tensor)\n",
    "        loss = criterion(y_pred, Ytest1_tensor)\n",
    "        print('test_loss:', loss)"
   ]
  },
  {
   "cell_type": "code",
   "execution_count": null,
   "id": "7771df0a",
   "metadata": {
    "pycharm": {
     "name": "#%%\n"
    }
   },
   "outputs": [],
   "source": [
    "if __name__ == '__main__':\n",
    "    for epoch in range(10000):\n",
    "        train(epoch)\n",
    "        if (epoch + 1) % 10 == 0:\n",
    "            model.eval()\n",
    "            test()"
   ]
  },
  {
   "cell_type": "code",
   "execution_count": null,
   "id": "4a4a8071",
   "metadata": {
    "pycharm": {
     "name": "#%%\n"
    }
   },
   "outputs": [],
   "source": [
    "Xtest1"
   ]
  },
  {
   "cell_type": "code",
   "execution_count": null,
   "id": "66d3e70d",
   "metadata": {
    "pycharm": {
     "name": "#%%\n"
    }
   },
   "outputs": [],
   "source": [
    "Xtest1[:, 1].reshape(-1)"
   ]
  },
  {
   "cell_type": "code",
   "execution_count": null,
   "id": "ea8c1ae0",
   "metadata": {
    "pycharm": {
     "name": "#%%\n"
    }
   },
   "outputs": [],
   "source": [
    "with torch.no_grad():\n",
    "    y_pred = model(Xtest1_tensor)\n",
    "y = pd.concat([pd.Series(Xtest1[:, 0].reshape(-1), name='send rates'), pd.Series(Xtest1[:, 1].reshape(-1), name='block size'), \n",
    "               pd.Series(Ytest1_tensor.numpy().reshape(-1), name='latency_true'), pd.Series(y_pred.numpy().reshape(-1), name='latency_pred')], \n",
    "              axis=1)\n",
    "y.to_csv('../../Data/Result/Our/latency_true_pred.csv')"
   ]
  },
  {
   "cell_type": "code",
   "execution_count": 2,
   "id": "fd2da45c",
   "metadata": {
    "pycharm": {
     "name": "#%%\n"
    }
   },
   "outputs": [
    {
     "data": {
      "text/html": [
       "<div>\n",
       "<style scoped>\n",
       "    .dataframe tbody tr th:only-of-type {\n",
       "        vertical-align: middle;\n",
       "    }\n",
       "\n",
       "    .dataframe tbody tr th {\n",
       "        vertical-align: top;\n",
       "    }\n",
       "\n",
       "    .dataframe thead th {\n",
       "        text-align: right;\n",
       "    }\n",
       "</style>\n",
       "<table border=\"1\" class=\"dataframe\">\n",
       "  <thead>\n",
       "    <tr style=\"text-align: right;\">\n",
       "      <th></th>\n",
       "      <th>send rates</th>\n",
       "      <th>block size</th>\n",
       "      <th>latency_true</th>\n",
       "      <th>latency_pred</th>\n",
       "    </tr>\n",
       "  </thead>\n",
       "  <tbody>\n",
       "    <tr>\n",
       "      <th>0</th>\n",
       "      <td>190.2</td>\n",
       "      <td>720.0</td>\n",
       "      <td>2.99</td>\n",
       "      <td>2.320810</td>\n",
       "    </tr>\n",
       "    <tr>\n",
       "      <th>1</th>\n",
       "      <td>15.1</td>\n",
       "      <td>310.0</td>\n",
       "      <td>1.18</td>\n",
       "      <td>1.152351</td>\n",
       "    </tr>\n",
       "    <tr>\n",
       "      <th>2</th>\n",
       "      <td>75.3</td>\n",
       "      <td>40.0</td>\n",
       "      <td>0.33</td>\n",
       "      <td>0.454525</td>\n",
       "    </tr>\n",
       "    <tr>\n",
       "      <th>3</th>\n",
       "      <td>40.2</td>\n",
       "      <td>370.0</td>\n",
       "      <td>1.16</td>\n",
       "      <td>1.189866</td>\n",
       "    </tr>\n",
       "    <tr>\n",
       "      <th>4</th>\n",
       "      <td>30.1</td>\n",
       "      <td>210.0</td>\n",
       "      <td>1.15</td>\n",
       "      <td>1.186116</td>\n",
       "    </tr>\n",
       "  </tbody>\n",
       "</table>\n",
       "</div>"
      ],
      "text/plain": [
       "   send rates  block size  latency_true  latency_pred\n",
       "0       190.2       720.0          2.99      2.320810\n",
       "1        15.1       310.0          1.18      1.152351\n",
       "2        75.3        40.0          0.33      0.454525\n",
       "3        40.2       370.0          1.16      1.189866\n",
       "4        30.1       210.0          1.15      1.186116"
      ]
     },
     "execution_count": 2,
     "metadata": {},
     "output_type": "execute_result"
    }
   ],
   "source": [
    "# Compute test set MAE RMSE MAPE\n",
    "import pandas as pd\n",
    "\n",
    "data = pd.read_csv('../../Data/Result/Our/latency_true_pred.csv')\n",
    "data.drop('Unnamed: 0', axis=1, inplace=True)\n",
    "data.head()"
   ]
  },
  {
   "cell_type": "code",
   "execution_count": 3,
   "id": "31d5c663",
   "metadata": {
    "pycharm": {
     "name": "#%%\n"
    }
   },
   "outputs": [
    {
     "data": {
      "text/plain": [
       "array([2.99, 1.18, 0.33, 1.16, 1.15, 1.55, 0.9 , 0.81, 1.2 , 1.22, 1.23,\n",
       "       1.28, 0.92, 1.18, 0.91, 0.26, 1.18, 1.26, 1.17, 0.87, 1.18, 0.92,\n",
       "       0.94, 1.24, 0.88, 1.19, 2.32, 1.01, 1.66, 0.76, 0.77, 1.34, 0.89,\n",
       "       1.19, 0.65, 0.83, 1.13, 2.57, 0.92, 1.2 , 0.97, 0.89, 0.88, 1.16,\n",
       "       2.29, 0.47, 1.15, 0.93, 0.85, 0.8 , 1.19, 2.56, 1.18, 1.73, 1.23,\n",
       "       1.45, 2.1 , 1.27, 1.52, 0.85, 1.17, 0.95, 0.86, 0.25, 0.84, 0.9 ,\n",
       "       1.09, 0.84, 1.24, 0.91, 1.2 , 1.25, 1.58, 2.9 , 1.59, 1.1 , 2.33,\n",
       "       1.21, 1.25, 0.87, 2.18, 1.25, 0.86, 1.38, 2.14, 1.48, 1.26, 1.18,\n",
       "       0.93, 1.  , 1.11, 1.21, 1.03, 0.81, 1.17, 1.24, 1.17, 1.24, 0.45,\n",
       "       1.31, 1.15, 1.3 , 2.17, 0.9 , 1.07, 2.36, 1.17, 1.77, 1.25, 1.68,\n",
       "       1.89, 0.89, 0.43, 0.92, 0.59, 1.16, 1.6 , 0.67, 0.94, 0.96, 1.04,\n",
       "       0.95, 0.97, 0.87, 0.88, 1.16, 0.8 , 0.92, 1.17, 0.84, 1.16, 0.86,\n",
       "       1.66, 0.95, 1.88, 0.87, 1.12, 1.17, 1.18, 1.87, 1.75, 3.07, 0.94,\n",
       "       0.93, 0.87, 1.27, 0.8 , 1.24, 1.18, 1.02, 0.95, 0.85, 1.16, 0.64,\n",
       "       1.2 , 1.57, 0.58, 1.18, 1.16, 1.23, 1.3 , 1.27, 1.19, 0.88, 1.12,\n",
       "       0.47, 0.84, 1.2 , 1.08, 1.66, 1.16, 1.45, 1.14, 1.08, 1.16, 0.89,\n",
       "       0.92, 2.21, 0.83, 0.81, 1.18, 0.94, 2.  , 0.92, 1.21, 1.62, 0.84,\n",
       "       0.93, 0.16, 2.18, 1.18, 2.24, 1.27, 1.32, 1.04, 0.88, 0.92, 1.23,\n",
       "       1.17, 1.36, 0.93, 2.08, 0.91, 1.28, 0.85, 0.88, 0.31, 2.14, 1.24,\n",
       "       1.18, 0.94, 1.16, 1.07, 0.95, 0.94, 2.3 , 1.08, 0.96, 1.93, 1.25,\n",
       "       0.93, 0.88, 1.25, 2.52, 2.07, 1.17, 0.89, 2.19, 1.11, 1.23, 1.22,\n",
       "       1.19, 1.17, 0.8 , 0.9 , 1.26, 0.29, 1.46, 2.59, 0.47, 1.25, 1.17,\n",
       "       0.95, 1.91, 0.51, 1.07, 1.75, 0.92, 2.55, 0.87, 2.03, 1.99, 0.93,\n",
       "       1.03, 0.92, 2.1 , 0.54, 1.68, 1.03, 1.18, 0.87, 0.89, 2.23, 1.17,\n",
       "       0.68, 0.92, 0.9 , 1.47, 1.45, 0.97, 1.18, 1.15, 0.86, 1.19, 1.15,\n",
       "       1.17, 0.89, 1.64, 0.49, 1.2 , 1.22, 0.5 , 0.94, 1.02, 2.13, 1.23,\n",
       "       1.24, 1.15, 0.82, 0.82, 2.32, 1.21, 1.82, 1.87, 0.64, 1.17, 1.25,\n",
       "       0.88, 0.85, 0.9 , 1.02, 0.91, 0.94, 1.09, 1.24, 1.24, 0.9 , 0.67,\n",
       "       0.89, 2.73, 0.91, 1.18, 1.23, 2.38, 1.83, 1.28, 0.82, 1.07, 2.16,\n",
       "       1.2 , 1.99, 0.9 , 2.57, 1.17, 1.17, 1.97, 1.18, 0.88, 0.92, 1.21,\n",
       "       1.76, 1.15, 2.19, 0.93, 1.16, 2.13, 0.92, 0.93, 0.93, 0.89, 1.17,\n",
       "       1.17, 1.4 , 1.16, 1.32, 2.22, 1.15, 0.99, 2.5 , 1.15, 0.91, 1.21,\n",
       "       1.17, 1.2 , 1.66, 0.97, 0.85, 1.21, 2.06, 0.94, 1.99, 1.76, 1.04,\n",
       "       1.05, 2.71, 0.97, 0.88, 0.91, 2.45, 0.95, 1.13, 1.25, 0.94, 0.94,\n",
       "       0.92, 1.19, 1.2 , 0.88, 2.05, 0.99, 1.19, 0.7 , 1.11, 2.12, 0.88,\n",
       "       0.85, 0.81, 1.19, 2.04, 1.2 , 0.91, 2.5 , 1.18, 1.17, 1.01, 1.17,\n",
       "       1.18, 1.28, 1.27, 0.96, 1.53, 1.11, 0.91, 0.93, 1.18, 0.88, 2.35,\n",
       "       0.91, 0.95, 1.2 , 1.84, 1.16, 1.27, 1.02, 2.25, 1.19, 1.16, 0.97,\n",
       "       1.16, 2.35, 1.96, 1.31, 1.82, 0.97, 1.26, 0.91, 1.1 , 0.83, 0.92,\n",
       "       0.98, 1.1 , 0.83, 1.82, 0.95, 0.45, 0.87, 1.24, 0.93, 2.17, 1.17,\n",
       "       1.16, 2.11, 0.93, 2.57, 1.82, 2.21, 1.15, 1.03, 0.48, 1.31, 1.23,\n",
       "       1.18, 1.25, 0.51, 0.96, 0.9 , 2.45, 1.21, 1.02, 0.99, 1.24, 1.1 ,\n",
       "       1.27, 2.12, 1.83, 1.33, 0.84, 2.2 , 0.9 , 1.23, 0.51, 1.66, 0.83,\n",
       "       1.17, 0.94, 1.02, 2.45, 0.89, 1.17, 1.  , 1.8 , 2.19, 0.58, 1.19,\n",
       "       1.84, 1.19, 0.84, 1.74, 1.17, 1.05, 1.64, 1.3 , 1.14, 0.94, 1.93,\n",
       "       0.84, 2.48, 0.89, 1.17, 0.86, 1.06, 1.16, 0.93, 1.03, 1.02, 0.92,\n",
       "       0.83, 1.18, 0.87, 1.2 , 0.91, 0.9 , 0.78, 2.08, 0.5 , 1.18, 1.03,\n",
       "       0.86, 0.88, 1.21, 0.88, 1.01, 0.86, 0.26, 0.96, 2.75, 0.08, 1.26,\n",
       "       2.41, 0.85, 0.95, 1.98, 1.2 , 2.22, 1.17, 0.97, 2.41, 1.23, 1.24,\n",
       "       1.21, 1.17, 1.16, 1.2 , 1.26, 0.1 , 1.61, 2.4 , 0.88, 0.83, 1.16,\n",
       "       2.32, 1.03, 1.02, 1.23, 1.16, 0.89, 0.94, 1.02, 1.51, 0.88, 2.54,\n",
       "       1.06, 1.17, 0.89, 1.24, 0.94, 1.14, 1.17, 0.88, 1.7 , 1.24, 1.1 ,\n",
       "       0.93, 0.5 , 1.18, 1.54, 1.23, 1.19, 1.66, 1.26, 1.18, 0.9 , 1.08,\n",
       "       1.71, 0.9 , 1.02, 0.87, 0.9 , 1.63, 0.92, 1.17, 0.89, 0.62, 0.93,\n",
       "       0.84, 0.87, 0.98, 2.13, 0.82, 1.25, 1.04, 0.91, 1.18, 0.92, 1.25,\n",
       "       1.17, 0.88, 1.16, 1.19, 1.33, 2.49, 1.16, 1.34, 0.92, 1.27, 1.18,\n",
       "       1.06, 0.95, 1.08, 2.36, 0.88, 0.87, 0.65, 0.2 ])"
      ]
     },
     "execution_count": 3,
     "metadata": {},
     "output_type": "execute_result"
    }
   ],
   "source": [
    "y = data['latency_true'].values\n",
    "y"
   ]
  },
  {
   "cell_type": "code",
   "execution_count": 4,
   "id": "c33c5c5f",
   "metadata": {
    "pycharm": {
     "name": "#%%\n"
    }
   },
   "outputs": [
    {
     "data": {
      "text/plain": [
       "array([2.3208103 , 1.152351  , 0.45452467, 1.1898661 , 1.1861162 ,\n",
       "       1.7515868 , 0.9486697 , 0.934467  , 1.1973859 , 1.1977936 ,\n",
       "       1.2304422 , 1.2882113 , 0.9354242 , 1.1599122 , 0.91887003,\n",
       "       0.30472273, 1.1739374 , 1.243377  , 1.1532828 , 0.74696815,\n",
       "       1.145673  , 0.9025149 , 0.902382  , 1.3724489 , 0.87479097,\n",
       "       1.6160862 , 2.0766547 , 1.1960893 , 1.9390342 , 0.86204463,\n",
       "       0.9417342 , 1.4168537 , 0.89399344, 1.390674  , 0.7005626 ,\n",
       "       0.9351986 , 1.1299369 , 2.2226622 , 0.92101866, 1.1236999 ,\n",
       "       0.9650107 , 0.9070456 , 0.88209254, 1.1825789 , 2.4912877 ,\n",
       "       0.5988471 , 1.1808361 , 0.9260364 , 0.9299646 , 0.86709535,\n",
       "       1.1554462 , 2.5880766 , 1.07282   , 1.9384309 , 1.2471476 ,\n",
       "       1.4291681 , 2.016405  , 1.2401351 , 1.6276275 , 0.93957084,\n",
       "       1.2254604 , 0.9154847 , 0.90830106, 0.23859358, 0.8875993 ,\n",
       "       1.001138  , 1.1144003 , 0.8999664 , 1.2292085 , 0.9316595 ,\n",
       "       1.2094281 , 1.2047896 , 1.4490453 , 2.8490198 , 1.9696571 ,\n",
       "       1.100025  , 2.2346432 , 1.1976191 , 1.2959306 , 0.9451336 ,\n",
       "       2.0914373 , 1.2841903 , 0.9290393 , 1.5106542 , 2.386164  ,\n",
       "       1.642876  , 1.2120763 , 1.2050449 , 0.95432156, 1.0186433 ,\n",
       "       1.115251  , 1.2275337 , 0.98312324, 0.9237754 , 1.1580776 ,\n",
       "       1.2223874 , 1.187598  , 1.2046148 , 0.54685956, 1.6332576 ,\n",
       "       1.1826957 , 1.3315444 , 2.2575555 , 0.93608177, 1.0041419 ,\n",
       "       2.3416023 , 1.2028977 , 1.383272  , 1.2274972 , 1.7896206 ,\n",
       "       2.2004497 , 0.8873884 , 0.4326404 , 0.86819094, 0.6315681 ,\n",
       "       1.1446829 , 1.7855906 , 0.714476  , 1.045665  , 1.5249884 ,\n",
       "       0.90843326, 0.8952188 , 0.90868986, 1.157032  , 0.9610533 ,\n",
       "       1.1655163 , 0.85052556, 0.9113587 , 1.1601741 , 0.8876222 ,\n",
       "       1.1967562 , 0.91810185, 1.6876248 , 0.9459024 , 1.8093069 ,\n",
       "       0.93413925, 0.97546995, 1.2021049 , 1.1605119 , 2.4135544 ,\n",
       "       2.2734866 , 2.725856  , 0.95330733, 0.9653592 , 0.9319728 ,\n",
       "       1.3902385 , 0.8859909 , 1.296961  , 1.1550401 , 1.0304906 ,\n",
       "       0.9674358 , 0.8662258 , 1.1746197 , 0.662961  , 1.3887736 ,\n",
       "       1.1473362 , 0.59218365, 1.2111703 , 1.1454399 , 1.2609943 ,\n",
       "       1.3814518 , 1.2196281 , 1.1881727 , 0.9546295 , 1.1070865 ,\n",
       "       0.552171  , 0.8555681 , 1.1521764 , 1.1135406 , 1.5400304 ,\n",
       "       1.1606281 , 1.4020885 , 1.1459643 , 1.1096778 , 1.6079618 ,\n",
       "       0.8860702 , 0.87367296, 2.2945218 , 0.90649396, 0.9022333 ,\n",
       "       1.2025193 , 0.91506356, 1.9858546 , 0.8867165 , 1.2043815 ,\n",
       "       1.6774622 , 0.9175431 , 0.8808206 , 0.18302363, 2.2581816 ,\n",
       "       1.1717938 , 2.1327038 , 1.2294804 , 1.219803  , 1.2157518 ,\n",
       "       0.93767244, 0.92179066, 1.2170945 , 1.1867653 , 1.5233234 ,\n",
       "       0.93448985, 2.1087093 , 0.87955225, 1.4484587 , 0.9030551 ,\n",
       "       0.9329201 , 0.36321703, 2.0358317 , 1.3193195 , 1.1420565 ,\n",
       "       0.94406027, 1.1799546 , 0.9325395 , 0.95172197, 0.9247192 ,\n",
       "       2.3339598 , 1.1132065 , 0.9779918 , 2.1400356 , 1.2862535 ,\n",
       "       0.87450445, 0.8739353 , 1.2121347 , 2.376949  , 2.3732    ,\n",
       "       1.1760433 , 0.91235006, 2.2966118 , 1.0131198 , 1.2338647 ,\n",
       "       1.2122968 , 1.1678568 , 1.2038513 , 0.8695553 , 0.9228498 ,\n",
       "       1.212895  , 0.39145488, 1.6734849 , 2.5784357 , 0.43980592,\n",
       "       1.224733  , 1.159871  , 0.8709875 , 2.3272786 , 0.512856  ,\n",
       "       1.1212145 , 1.9065635 , 0.89506495, 2.4350095 , 0.9478529 ,\n",
       "       2.3509057 , 2.166275  , 0.93038726, 0.98196495, 0.94123095,\n",
       "       2.2021837 , 0.5687473 , 1.6652855 , 1.0401479 , 1.1322721 ,\n",
       "       0.8853849 , 0.8596861 , 2.519684  , 1.1453816 , 0.6325032 ,\n",
       "       0.9685708 , 0.98581815, 1.8905646 , 2.216775  , 0.918603  ,\n",
       "       1.1678063 , 1.1878513 , 0.93446976, 1.1422125 , 1.1684331 ,\n",
       "       1.1696867 , 0.9474403 , 1.9892994 , 0.5005316 , 1.2099057 ,\n",
       "       1.204964  , 0.50491   , 0.91966075, 1.0258789 , 2.2249682 ,\n",
       "       1.2184626 , 1.2151737 , 1.1822295 , 0.98032266, 0.9056269 ,\n",
       "       2.0990882 , 1.1524092 , 2.1621125 , 1.0013998 , 0.63647634,\n",
       "       1.1829867 , 1.3511928 , 0.8709763 , 0.9092974 , 0.90574884,\n",
       "       1.0413492 , 0.96712846, 0.97219425, 1.3752097 , 1.8679205 ,\n",
       "       1.2204363 , 0.91560644, 0.6956882 , 0.9054702 , 2.4893494 ,\n",
       "       0.8914841 , 1.1833774 , 1.2123759 , 2.4702554 , 2.298386  ,\n",
       "       1.2125157 , 0.96346176, 0.93444395, 1.5841954 , 1.1950952 ,\n",
       "       2.3618164 , 0.9406732 , 2.062685  , 1.1974877 , 1.1754935 ,\n",
       "       1.7988088 , 1.1600459 , 0.90765405, 0.9391323 , 1.1968619 ,\n",
       "       1.9870192 , 1.2124301 , 2.2410617 , 0.9135799 , 1.1745032 ,\n",
       "       2.4310615 , 1.1206828 , 0.91747236, 1.2570509 , 0.9143667 ,\n",
       "       1.1328589 , 1.1625961 , 1.4045923 , 1.2158002 , 1.2680012 ,\n",
       "       2.061668  , 1.1673325 , 1.0966717 , 2.5462885 , 1.1959571 ,\n",
       "       0.9371885 , 1.2242551 , 1.1901573 , 1.151885  , 1.9981796 ,\n",
       "       0.94048977, 0.9168477 , 1.2072061 , 2.3251681 , 0.9743586 ,\n",
       "       2.1621466 , 1.4848858 , 1.0223082 , 1.026921  , 2.4608831 ,\n",
       "       0.94813997, 0.9273438 , 1.1777266 , 2.1287768 , 0.90125823,\n",
       "       1.4416381 , 1.2181579 , 0.9487814 , 0.8853701 , 0.9350891 ,\n",
       "       1.1713978 , 1.1961135 , 0.9306615 , 2.4062672 , 0.92342216,\n",
       "       1.277105  , 0.7725829 , 1.1273211 , 2.2173586 , 0.91195506,\n",
       "       0.8647296 , 0.94023854, 1.2143768 , 2.0850317 , 1.2042941 ,\n",
       "       0.8652834 , 2.235761  , 1.1697528 , 1.1828119 , 0.99606735,\n",
       "       1.1397573 , 1.1493868 , 1.2464899 , 1.228005  , 1.1690518 ,\n",
       "       1.3754975 , 1.1244065 , 0.9742521 , 0.97599804, 1.2025274 ,\n",
       "       0.9018568 , 2.4749267 , 0.9107126 , 0.9303004 , 1.9477106 ,\n",
       "       2.0552406 , 1.1755518 , 1.3478504 , 1.110608  , 2.5066152 ,\n",
       "       1.1726313 , 1.1595795 , 0.9279521 , 1.1743284 , 2.3608227 ,\n",
       "       1.7869262 , 1.2616194 , 1.6497303 , 1.3507212 , 1.2201109 ,\n",
       "       0.9649134 , 1.0506277 , 0.9005084 , 0.92413306, 0.9500535 ,\n",
       "       1.1202638 , 0.95251054, 1.9741699 , 1.2180115 , 0.66784286,\n",
       "       0.9870193 , 1.308108  , 0.9293491 , 2.095778  , 1.1855413 ,\n",
       "       1.1959487 , 2.1471558 , 0.91687506, 2.5570283 , 2.1434698 ,\n",
       "       2.1171222 , 1.1750157 , 1.0151687 , 0.6332157 , 1.5414163 ,\n",
       "       1.2420901 , 1.2216961 , 1.2100371 , 0.52379197, 0.90808815,\n",
       "       0.89926976, 2.209424  , 1.2091138 , 1.2053066 , 1.0448563 ,\n",
       "       1.2210114 , 1.1221355 , 1.2521652 , 2.2525637 , 1.8391111 ,\n",
       "       1.5203205 , 0.8943874 , 2.1292791 , 0.96998787, 1.2214074 ,\n",
       "       0.64949447, 1.5374242 , 0.953277  , 1.2161438 , 0.9389528 ,\n",
       "       1.017283  , 2.2446613 , 0.9199863 , 1.2038163 , 0.90431124,\n",
       "       2.3530684 , 2.0186484 , 0.6566853 , 1.1284157 , 2.3768697 ,\n",
       "       1.1531082 , 0.9423659 , 1.3191015 , 1.1603951 , 1.0336142 ,\n",
       "       1.8641859 , 1.1977009 , 1.147536  , 1.0759625 , 2.0114903 ,\n",
       "       0.8738225 , 2.3416862 , 0.88794136, 1.1994694 , 0.896304  ,\n",
       "       1.1198969 , 1.176237  , 0.87487787, 0.97813886, 1.0340194 ,\n",
       "       0.9444644 , 0.9012359 , 1.2123729 , 0.9055511 , 1.1975024 ,\n",
       "       0.9196723 , 0.9022644 , 0.88675225, 2.6404417 , 0.49777147,\n",
       "       1.1832523 , 0.9474117 , 0.9035681 , 0.94548976, 1.2050806 ,\n",
       "       0.90691215, 0.9736127 , 0.905742  , 0.4535837 , 0.94110674,\n",
       "       2.299793  , 0.0841895 , 1.2411879 , 2.3038368 , 0.9007915 ,\n",
       "       1.1514627 , 2.1733751 , 1.2051972 , 2.5827951 , 1.1903902 ,\n",
       "       0.9035363 , 2.747765  , 1.3103523 , 1.2257859 , 1.1985884 ,\n",
       "       1.1907123 , 1.1752338 , 1.1522347 , 1.2003435 , 0.09843782,\n",
       "       1.5222393 , 2.5679123 , 0.88637084, 0.8928273 , 1.1819963 ,\n",
       "       2.1825528 , 1.1456951 , 1.0251784 , 1.2115018 , 1.1770097 ,\n",
       "       0.89422256, 0.8692325 , 1.0449122 , 1.9803725 , 0.8803351 ,\n",
       "       2.3976474 , 0.94254166, 1.1457895 , 0.89718395, 1.2119654 ,\n",
       "       0.9378946 , 1.1543816 , 1.1168014 , 0.8520507 , 1.9735248 ,\n",
       "       1.4058576 , 1.1082834 , 0.9499038 , 0.63315564, 1.199273  ,\n",
       "       1.9704593 , 1.1974787 , 1.1639153 , 1.7597893 , 1.3670543 ,\n",
       "       1.1529334 , 0.9064121 , 1.1281518 , 1.8115581 , 0.9212413 ,\n",
       "       1.004456  , 0.9482846 , 0.92812926, 1.8394417 , 0.9056889 ,\n",
       "       1.2103736 , 0.8761027 , 0.61802125, 0.93262434, 0.9020066 ,\n",
       "       0.93788725, 0.89172083, 1.97366   , 0.92211854, 1.2161685 ,\n",
       "       1.0284572 , 0.9913786 , 1.1905068 , 0.91971165, 1.261387  ,\n",
       "       1.1612839 , 0.90018755, 1.3482324 , 1.1718093 , 1.2242805 ,\n",
       "       2.6455755 , 1.2014924 , 1.5554272 , 0.8596933 , 1.1639179 ,\n",
       "       1.1680317 , 1.0183097 , 0.9270992 , 1.1245066 , 2.324418  ,\n",
       "       0.9322715 , 0.92211074, 0.64490867, 0.17418784])"
      ]
     },
     "execution_count": 4,
     "metadata": {},
     "output_type": "execute_result"
    }
   ],
   "source": [
    "y_hat = data['latency_pred'].values\n",
    "y_hat"
   ]
  },
  {
   "cell_type": "code",
   "execution_count": 7,
   "id": "00d7bac8",
   "metadata": {
    "pycharm": {
     "name": "#%%\n"
    }
   },
   "outputs": [
    {
     "ename": "ModuleNotFoundError",
     "evalue": "No module named 'sklearn'",
     "output_type": "error",
     "traceback": [
      "\u001B[1;31m---------------------------------------------------------------------------\u001B[0m",
      "\u001B[1;31mModuleNotFoundError\u001B[0m                       Traceback (most recent call last)",
      "Cell \u001B[1;32mIn [7], line 1\u001B[0m\n\u001B[1;32m----> 1\u001B[0m \u001B[38;5;28;01mfrom\u001B[39;00m \u001B[38;5;21;01msklearn\u001B[39;00m \u001B[38;5;28;01mimport\u001B[39;00m metrics\n",
      "\u001B[1;31mModuleNotFoundError\u001B[0m: No module named 'sklearn'"
     ]
    }
   ],
   "source": [
    "from sklearn import metrics"
   ]
  },
  {
   "cell_type": "code",
   "execution_count": 6,
   "id": "cc56b5fa",
   "metadata": {
    "pycharm": {
     "name": "#%%\n"
    }
   },
   "outputs": [
    {
     "ename": "NameError",
     "evalue": "name 'metrics' is not defined",
     "output_type": "error",
     "traceback": [
      "\u001B[1;31m---------------------------------------------------------------------------\u001B[0m",
      "\u001B[1;31mNameError\u001B[0m                                 Traceback (most recent call last)",
      "Cell \u001B[1;32mIn [6], line 1\u001B[0m\n\u001B[1;32m----> 1\u001B[0m MAE \u001B[38;5;241m=\u001B[39m metrics\u001B[38;5;241m.\u001B[39mmean_absolute_error(y, y_hat)\n\u001B[0;32m      2\u001B[0m RMSE \u001B[38;5;241m=\u001B[39m metrics\u001B[38;5;241m.\u001B[39mmean_squared_error(y, y_hat) \u001B[38;5;241m*\u001B[39m\u001B[38;5;241m*\u001B[39m \u001B[38;5;241m0.5\u001B[39m\n\u001B[0;32m      3\u001B[0m MAPE \u001B[38;5;241m=\u001B[39m metrics\u001B[38;5;241m.\u001B[39mmean_absolute_percentage_error(y, y_hat)\n",
      "\u001B[1;31mNameError\u001B[0m: name 'metrics' is not defined"
     ]
    }
   ],
   "source": [
    "MAE = metrics.mean_absolute_error(y, y_hat)\n",
    "RMSE = metrics.mean_squared_error(y, y_hat) ** 0.5\n",
    "MAPE = metrics.mean_absolute_percentage_error(y, y_hat)\n",
    "print('MAE: ', MAE)\n",
    "print('RMSE: ', RMSE)\n",
    "print('MAPE: ', MAPE)"
   ]
  },
  {
   "cell_type": "markdown",
   "id": "3d63ef84",
   "metadata": {
    "pycharm": {
     "name": "#%% md\n"
    }
   },
   "source": [
    "# MLP2(send rates, block size) = throughput"
   ]
  },
  {
   "cell_type": "code",
   "execution_count": null,
   "id": "9a25771c",
   "metadata": {
    "pycharm": {
     "name": "#%%\n"
    }
   },
   "outputs": [],
   "source": [
    "# Split training set and test set\n",
    "Xtrain2, Xtest2, Ytrain2, Ytest2 = train_test_split(X, Y2, test_size=0.2, random_state=1)"
   ]
  },
  {
   "cell_type": "code",
   "execution_count": null,
   "id": "d5724393",
   "metadata": {
    "pycharm": {
     "name": "#%%\n"
    }
   },
   "outputs": [],
   "source": [
    "Xtest2"
   ]
  },
  {
   "cell_type": "code",
   "execution_count": null,
   "id": "1a4ce978",
   "metadata": {
    "pycharm": {
     "name": "#%%\n"
    }
   },
   "outputs": [],
   "source": [
    "Ytest2"
   ]
  },
  {
   "cell_type": "code",
   "execution_count": null,
   "id": "0d3da7c0",
   "metadata": {
    "pycharm": {
     "name": "#%%\n"
    }
   },
   "outputs": [],
   "source": [
    "# property scaling\n",
    "min_max_scaler2 = preprocessing.MinMaxScaler()"
   ]
  },
  {
   "cell_type": "code",
   "execution_count": null,
   "id": "ec662e77",
   "metadata": {
    "pycharm": {
     "name": "#%%\n"
    }
   },
   "outputs": [],
   "source": [
    "# Scaling training set data\n",
    "Xtrain2_minmax = min_max_scaler2.fit_transform(Xtrain2)\n",
    "Xtrain2_minmax"
   ]
  },
  {
   "cell_type": "code",
   "execution_count": null,
   "id": "3adff29f",
   "metadata": {
    "pycharm": {
     "name": "#%%\n"
    }
   },
   "outputs": [],
   "source": [
    "# Apply the same scaling to the test set data\n",
    "Xtest2_minmax = min_max_scaler2.transform(Xtest2)\n",
    "Xtest2_minmax"
   ]
  },
  {
   "cell_type": "code",
   "execution_count": null,
   "id": "be826be4",
   "metadata": {
    "pycharm": {
     "name": "#%%\n"
    }
   },
   "outputs": [],
   "source": [
    "Xtest2_tensor = torch.from_numpy(Xtest2_minmax).type(torch.float32)\n",
    "Ytest2_tensor = torch.from_numpy(Ytest2).type(torch.float32)"
   ]
  },
  {
   "cell_type": "code",
   "execution_count": null,
   "id": "064cf8d2",
   "metadata": {
    "pycharm": {
     "name": "#%%\n"
    }
   },
   "outputs": [],
   "source": [
    "train_dataset = BlockChainDataset(Xtrain2_minmax, Ytrain2)\n",
    "train_loader = DataLoader(dataset=train_dataset, batch_size=32, shuffle=False)"
   ]
  },
  {
   "cell_type": "code",
   "execution_count": null,
   "id": "bf230e77",
   "metadata": {
    "pycharm": {
     "name": "#%%\n"
    }
   },
   "outputs": [],
   "source": [
    "# design model using class\n",
    "class Thr(torch.nn.Module):\n",
    "    def __init__(self):\n",
    "        super(Thr, self).__init__()\n",
    "        self.fc1 = nn.Linear(2, 64)\n",
    "        self.fc2 = nn.Linear(64, 8)\n",
    "        self.relu = nn.ReLU()\n",
    "        self.fc3 = nn.Linear(8, 1)\n",
    "        self.dropout = nn.Dropout(p=0.5)\n",
    "        \n",
    "    def forward(self, x):\n",
    "        out = self.fc1(x)\n",
    "        out = self.dropout(out)\n",
    "        out = self.relu(out)\n",
    "        out = self.fc2(out)\n",
    "        out = self.dropout(out)\n",
    "        out = self.relu(out)\n",
    "        out = self.fc3(out)\n",
    "        return out\n",
    "    \n",
    "    \n",
    "model1 = Thr()"
   ]
  },
  {
   "cell_type": "code",
   "execution_count": null,
   "id": "c9c5a1d7",
   "metadata": {
    "pycharm": {
     "name": "#%%\n"
    }
   },
   "outputs": [],
   "source": [
    "# construct loss and optimizer\n",
    "criterion = nn.MSELoss()\n",
    "optimizer = optim.Adam(model1.parameters(), lr=0.001)"
   ]
  },
  {
   "cell_type": "code",
   "execution_count": null,
   "id": "1c9f8f4a",
   "metadata": {
    "pycharm": {
     "name": "#%%\n"
    }
   },
   "outputs": [],
   "source": [
    "# traning cycle forward, backward, update\n",
    "def train1(epoch):\n",
    "    train_loss = 0.0\n",
    "    for batch_idx, (inputs, labels) in enumerate(train_loader, 0):\n",
    "        y_pred = model1(inputs)\n",
    "        loss = criterion(y_pred, labels)\n",
    "        optimizer.zero_grad()\n",
    "        loss.backward()\n",
    "        optimizer.step()\n",
    "        train_loss += loss.item() * labels.shape[0]\n",
    "    if (epoch + 1) % 10 == 0:\n",
    "        print('epoch:', epoch + 1, 'train_loss:', train_loss / len(Xtrain2))\n",
    "        \n",
    "\n",
    "def test1():\n",
    "    with torch.no_grad():\n",
    "        y_pred = model1(Xtest2_tensor)\n",
    "        loss = criterion(y_pred, Ytest2_tensor)\n",
    "        print('test_loss:', loss)"
   ]
  },
  {
   "cell_type": "code",
   "execution_count": null,
   "id": "3ac06ad7",
   "metadata": {
    "pycharm": {
     "name": "#%%\n"
    }
   },
   "outputs": [],
   "source": [
    "if __name__ == '__main__':\n",
    "    for epoch in range(10000):\n",
    "        train1(epoch)\n",
    "        if (epoch + 1) % 10 == 0:\n",
    "            model1.eval()\n",
    "            test1()"
   ]
  },
  {
   "cell_type": "code",
   "execution_count": null,
   "id": "4bb84073",
   "metadata": {
    "pycharm": {
     "name": "#%%\n"
    }
   },
   "outputs": [],
   "source": [
    "with torch.no_grad():\n",
    "    y_pred = model1(Xtest2_tensor)\n",
    "y = pd.concat([pd.Series(Xtest2[:, 0].reshape(-1), name='send rates'), pd.Series(Xtest2[:, 1].reshape(-1), name='block size'), \n",
    "               pd.Series(Ytest2_tensor.numpy().reshape(-1), name='throughput_true'), \n",
    "               pd.Series(y_pred.numpy().reshape(-1), name='throughput_pred')], axis=1)\n",
    "y.to_csv('../../Data/Result/Our/throughput_true_pred.csv')"
   ]
  },
  {
   "cell_type": "code",
   "execution_count": null,
   "id": "0f5e07e8",
   "metadata": {
    "pycharm": {
     "name": "#%%\n"
    }
   },
   "outputs": [],
   "source": [
    "# Compute the test set MAE RMSE MAPE\n",
    "import pandas as pd\n",
    "\n",
    "data = pd.read_csv('../../Data/Result/Our/throughput_true_pred.csv')\n",
    "data.drop('Unnamed: 0', axis=1, inplace=True)\n",
    "data.head()"
   ]
  },
  {
   "cell_type": "code",
   "execution_count": null,
   "id": "81639cb3",
   "metadata": {
    "pycharm": {
     "name": "#%%\n"
    }
   },
   "outputs": [],
   "source": [
    "y = data['throughput_true'].values\n",
    "y"
   ]
  },
  {
   "cell_type": "code",
   "execution_count": null,
   "id": "a2933da4",
   "metadata": {
    "pycharm": {
     "name": "#%%\n"
    }
   },
   "outputs": [],
   "source": [
    "y_hat = data['throughput_pred'].values\n",
    "y_hat"
   ]
  },
  {
   "cell_type": "code",
   "execution_count": null,
   "id": "c1bba44f",
   "metadata": {
    "pycharm": {
     "name": "#%%\n"
    }
   },
   "outputs": [],
   "source": [
    "from sklearn import metrics"
   ]
  },
  {
   "cell_type": "code",
   "execution_count": null,
   "id": "0030077e",
   "metadata": {
    "pycharm": {
     "name": "#%%\n"
    }
   },
   "outputs": [],
   "source": [
    "MAE = metrics.mean_absolute_error(y, y_hat)\n",
    "RMSE = metrics.mean_squared_error(y, y_hat) ** 0.5\n",
    "MAPE = metrics.mean_absolute_percentage_error(y, y_hat)\n",
    "print('MAE: ', MAE)\n",
    "print('RMSE: ', RMSE)\n",
    "print('MAPE: ', MAPE)"
   ]
  },
  {
   "cell_type": "markdown",
   "id": "0f5fe81a",
   "metadata": {
    "pycharm": {
     "name": "#%% md\n"
    }
   },
   "source": [
    "# Choose the optimal block size"
   ]
  },
  {
   "cell_type": "markdown",
   "id": "5802452d",
   "metadata": {
    "pycharm": {
     "name": "#%% md\n"
    }
   },
   "source": [
    "## MLP1 to predict latency"
   ]
  },
  {
   "cell_type": "code",
   "execution_count": null,
   "id": "1602f416",
   "metadata": {
    "pycharm": {
     "name": "#%%\n"
    }
   },
   "outputs": [],
   "source": [
    "TPS = []\n",
    "for i in range(10,210,10):\n",
    "    for j in range(20):\n",
    "        TPS.append(i)\n",
    "TPS"
   ]
  },
  {
   "cell_type": "code",
   "execution_count": null,
   "id": "0788a85d",
   "metadata": {
    "pycharm": {
     "name": "#%%\n"
    }
   },
   "outputs": [],
   "source": [
    "BS = list(range(10, 210, 10)) * 20\n",
    "BS"
   ]
  },
  {
   "cell_type": "code",
   "execution_count": null,
   "id": "941c367c",
   "metadata": {
    "pycharm": {
     "name": "#%%\n"
    }
   },
   "outputs": [],
   "source": [
    "len(BS)"
   ]
  },
  {
   "cell_type": "code",
   "execution_count": null,
   "id": "44305d10",
   "metadata": {
    "pycharm": {
     "name": "#%%\n"
    }
   },
   "outputs": [],
   "source": [
    "XpBS = {\"Xp\": TPS, \"BS\": BS}\n",
    "XpBS"
   ]
  },
  {
   "cell_type": "code",
   "execution_count": null,
   "id": "df8d7481",
   "metadata": {
    "pycharm": {
     "name": "#%%\n"
    }
   },
   "outputs": [],
   "source": [
    "XpBS = pd.DataFrame(XpBS)\n",
    "XpBS"
   ]
  },
  {
   "cell_type": "code",
   "execution_count": null,
   "id": "9186efd4",
   "metadata": {
    "pycharm": {
     "name": "#%%\n"
    }
   },
   "outputs": [],
   "source": [
    "XpBS_values = XpBS.values\n",
    "XpBS_values"
   ]
  },
  {
   "cell_type": "code",
   "execution_count": null,
   "id": "28712d47",
   "metadata": {
    "pycharm": {
     "name": "#%%\n"
    }
   },
   "outputs": [],
   "source": [
    "# Normalization\n",
    "XpBS_minmax = min_max_scaler1.transform(XpBS_values)\n",
    "XpBS_minmax"
   ]
  },
  {
   "cell_type": "code",
   "execution_count": null,
   "id": "436af803",
   "metadata": {
    "pycharm": {
     "name": "#%%\n"
    }
   },
   "outputs": [],
   "source": [
    "XpBS_tensor = torch.from_numpy(XpBS_minmax).type(torch.float32)"
   ]
  },
  {
   "cell_type": "code",
   "execution_count": null,
   "id": "9596c0c7",
   "metadata": {
    "pycharm": {
     "name": "#%%\n"
    }
   },
   "outputs": [],
   "source": [
    "with torch.no_grad():\n",
    "    latency_pred = model(XpBS_tensor)\n",
    "y = pd.concat([pd.Series(XpBS_values[:, 0].reshape(-1), name='send rates'), pd.Series(XpBS_values[:, 1].reshape(-1), name='block size'), \n",
    "               pd.Series(latency_pred.numpy().reshape(-1), name='latency_pred')], axis=1)\n",
    "y.index = XpBS.index\n",
    "y.to_csv('../../Data/Result/Our/latency_pred.csv')"
   ]
  },
  {
   "cell_type": "code",
   "execution_count": null,
   "id": "d4491e83",
   "metadata": {
    "pycharm": {
     "name": "#%%\n"
    }
   },
   "outputs": [],
   "source": [
    "y"
   ]
  },
  {
   "cell_type": "markdown",
   "id": "895f1c52",
   "metadata": {
    "pycharm": {
     "name": "#%% md\n"
    }
   },
   "source": [
    "## MLP2 to predict throughput"
   ]
  },
  {
   "cell_type": "code",
   "execution_count": null,
   "id": "c8a20975",
   "metadata": {
    "pycharm": {
     "name": "#%%\n"
    }
   },
   "outputs": [],
   "source": [
    "# Normalization\n",
    "XpBS_minmax2 = min_max_scaler2.transform(XpBS_values)\n",
    "XpBS_minmax2"
   ]
  },
  {
   "cell_type": "code",
   "execution_count": null,
   "id": "d65e4a0c",
   "metadata": {
    "pycharm": {
     "name": "#%%\n"
    }
   },
   "outputs": [],
   "source": [
    "XpBS_tensor2 = torch.from_numpy(XpBS_minmax2).type(torch.float32)"
   ]
  },
  {
   "cell_type": "code",
   "execution_count": null,
   "id": "3523abe6",
   "metadata": {
    "pycharm": {
     "name": "#%%\n"
    }
   },
   "outputs": [],
   "source": [
    "with torch.no_grad():\n",
    "    throughput_pred = model1(XpBS_tensor2)\n",
    "y = pd.concat([pd.Series(XpBS_values[:, 0].reshape(-1), name='send rates'), pd.Series(XpBS_values[:, 1].reshape(-1), name='block size'), \n",
    "               pd.Series(throughput_pred.numpy().reshape(-1), name='throughput_pred')], axis=1)\n",
    "y.index = XpBS.index\n",
    "y.to_csv('../../Data/Result/Our/throughput_pred.csv')"
   ]
  },
  {
   "cell_type": "code",
   "execution_count": null,
   "id": "3ce56caf",
   "metadata": {
    "pycharm": {
     "name": "#%%\n"
    }
   },
   "outputs": [],
   "source": [
    "y"
   ]
  },
  {
   "cell_type": "code",
   "execution_count": null,
   "id": "6c1db812",
   "metadata": {
    "pycharm": {
     "name": "#%%\n"
    }
   },
   "outputs": [],
   "source": [
    "with torch.no_grad():\n",
    "    latency_pred = model(XpBS_tensor)\n",
    "    throughput_pred = model1(XpBS_tensor2)\n",
    "y = pd.concat([pd.Series(XpBS_values[:, 0].reshape(-1), name='send rates'), pd.Series(XpBS_values[:, 1].reshape(-1), name='block size'), \n",
    "               pd.Series(latency_pred.numpy().reshape(-1), name='latency_pred'),\n",
    "               pd.Series(throughput_pred.numpy().reshape(-1), name='throughput_pred')], axis=1)\n",
    "y.index = XpBS.index\n",
    "y.to_csv('../../Data/Result/Our/latency_throughput_pred.csv')"
   ]
  },
  {
   "cell_type": "markdown",
   "id": "f854ea82",
   "metadata": {
    "pycharm": {
     "name": "#%% md\n"
    }
   },
   "source": [
    "## Set the score function to chose the best block"
   ]
  },
  {
   "cell_type": "code",
   "execution_count": null,
   "id": "637102df",
   "metadata": {
    "pycharm": {
     "name": "#%%\n"
    }
   },
   "outputs": [],
   "source": [
    "y"
   ]
  },
  {
   "cell_type": "code",
   "execution_count": null,
   "id": "60ac05b5",
   "metadata": {
    "pycharm": {
     "name": "#%%\n"
    }
   },
   "outputs": [],
   "source": [
    "for name, group in y.groupby('send rates', sort=False):\n",
    "    print(name)\n",
    "    print(group)"
   ]
  },
  {
   "cell_type": "code",
   "execution_count": null,
   "id": "7ffad23d",
   "metadata": {
    "pycharm": {
     "name": "#%%\n"
    }
   },
   "outputs": [],
   "source": [
    "la_max_min = y.groupby('send rates', sort=False)['latency_pred'].agg(['max', 'min'])\n",
    "la_max_min"
   ]
  },
  {
   "cell_type": "code",
   "execution_count": null,
   "id": "22ee9c52",
   "metadata": {
    "pycharm": {
     "name": "#%%\n"
    }
   },
   "outputs": [],
   "source": [
    "la_col=['latency_max', 'latency_min']\n",
    "la_max_min.columns = la_col\n",
    "la_max_min"
   ]
  },
  {
   "cell_type": "code",
   "execution_count": null,
   "id": "376f6aa5",
   "metadata": {
    "pycharm": {
     "name": "#%%\n"
    }
   },
   "outputs": [],
   "source": [
    "th_max_min = y.groupby('send rates', sort=False)['throughput_pred'].agg(['max', 'min'])\n",
    "th_max_min"
   ]
  },
  {
   "cell_type": "code",
   "execution_count": null,
   "id": "439275e1",
   "metadata": {
    "pycharm": {
     "name": "#%%\n"
    }
   },
   "outputs": [],
   "source": [
    "th_col=['throughput_max', 'throughput_min']\n",
    "th_max_min.columns = th_col\n",
    "th_max_min"
   ]
  },
  {
   "cell_type": "code",
   "execution_count": null,
   "id": "d4adf4f8",
   "metadata": {
    "pycharm": {
     "name": "#%%\n"
    }
   },
   "outputs": [],
   "source": [
    "# Restore the grouping index to the column\n",
    "la_max_min.reset_index(inplace=True)\n",
    "la_max_min"
   ]
  },
  {
   "cell_type": "code",
   "execution_count": null,
   "id": "1e6e6ab3",
   "metadata": {
    "pycharm": {
     "name": "#%%\n"
    }
   },
   "outputs": [],
   "source": [
    "th_max_min.reset_index(inplace=True)\n",
    "th_max_min"
   ]
  },
  {
   "cell_type": "code",
   "execution_count": null,
   "id": "6dd0292c",
   "metadata": {
    "pycharm": {
     "name": "#%%\n"
    }
   },
   "outputs": [],
   "source": [
    "la_max = la_max_min['latency_max'].values\n",
    "la_max = list(la_max)\n",
    "la_max\n",
    "len(la_max)"
   ]
  },
  {
   "cell_type": "code",
   "execution_count": null,
   "id": "f32d5516",
   "metadata": {
    "pycharm": {
     "name": "#%%\n"
    }
   },
   "outputs": [],
   "source": [
    "la_max_all = []\n",
    "for i in range(len(la_max)):\n",
    "    la_max_all.extend([la_max[i]]*20)\n",
    "    \n",
    "la_max_all"
   ]
  },
  {
   "cell_type": "code",
   "execution_count": null,
   "id": "e0542a86",
   "metadata": {
    "pycharm": {
     "name": "#%%\n"
    }
   },
   "outputs": [],
   "source": [
    "la_min = la_max_min['latency_min'].values\n",
    "la_min = list(la_min)\n",
    "la_min"
   ]
  },
  {
   "cell_type": "code",
   "execution_count": null,
   "id": "a524081c",
   "metadata": {
    "pycharm": {
     "name": "#%%\n"
    }
   },
   "outputs": [],
   "source": [
    "la_min_all = []\n",
    "for i in range(len(la_min)):\n",
    "    la_min_all.extend([la_min[i]]*20)\n",
    "    \n",
    "la_min_all"
   ]
  },
  {
   "cell_type": "code",
   "execution_count": null,
   "id": "065f1509",
   "metadata": {
    "pycharm": {
     "name": "#%%\n"
    }
   },
   "outputs": [],
   "source": [
    "y['latency_min'] = la_min_all\n",
    "y"
   ]
  },
  {
   "cell_type": "code",
   "execution_count": null,
   "id": "1a4f6d7e",
   "metadata": {
    "pycharm": {
     "name": "#%%\n"
    }
   },
   "outputs": [],
   "source": [
    "y['latency_max'] = la_max_all\n",
    "y"
   ]
  },
  {
   "cell_type": "code",
   "execution_count": null,
   "id": "9b96b969",
   "metadata": {
    "pycharm": {
     "name": "#%%\n"
    }
   },
   "outputs": [],
   "source": [
    "th_max = th_max_min['throughput_max'].values\n",
    "th_max = list(th_max)\n",
    "th_max"
   ]
  },
  {
   "cell_type": "code",
   "execution_count": null,
   "id": "cf13d4ab",
   "metadata": {
    "pycharm": {
     "name": "#%%\n"
    }
   },
   "outputs": [],
   "source": [
    "th_max_all = []\n",
    "for i in range(len(th_max)):\n",
    "    th_max_all.extend([th_max[i]] * 20)\n",
    "    \n",
    "th_max_all"
   ]
  },
  {
   "cell_type": "code",
   "execution_count": null,
   "id": "4cd7d294",
   "metadata": {
    "pycharm": {
     "name": "#%%\n"
    }
   },
   "outputs": [],
   "source": [
    "th_min = th_max_min['throughput_min'].values\n",
    "th_min = list(th_min)\n",
    "th_min"
   ]
  },
  {
   "cell_type": "code",
   "execution_count": null,
   "id": "886fdce5",
   "metadata": {
    "pycharm": {
     "name": "#%%\n"
    }
   },
   "outputs": [],
   "source": [
    "th_min_all = []\n",
    "for i in range(len(th_min)):\n",
    "    th_min_all.extend([th_min[i]] * 20)\n",
    "    \n",
    "th_min_all"
   ]
  },
  {
   "cell_type": "code",
   "execution_count": null,
   "id": "4f44801e",
   "metadata": {
    "pycharm": {
     "name": "#%%\n"
    }
   },
   "outputs": [],
   "source": [
    "y['throughput_min'] = th_min_all\n",
    "y"
   ]
  },
  {
   "cell_type": "code",
   "execution_count": null,
   "id": "86a44dce",
   "metadata": {
    "pycharm": {
     "name": "#%%\n"
    }
   },
   "outputs": [],
   "source": [
    "y['throughput_max'] = th_max_all\n",
    "y"
   ]
  },
  {
   "cell_type": "code",
   "execution_count": null,
   "id": "70989809",
   "metadata": {
    "pycharm": {
     "name": "#%%\n"
    }
   },
   "outputs": [],
   "source": [
    "y.to_csv('../../Data/Result/Our/latency_throughput_pred_max_min.csv')"
   ]
  },
  {
   "cell_type": "markdown",
   "id": "1dbf8fbd",
   "metadata": {
    "pycharm": {
     "name": "#%% md\n"
    }
   },
   "source": [
    "### choose different weights"
   ]
  },
  {
   "cell_type": "code",
   "execution_count": null,
   "id": "234fe470",
   "metadata": {
    "pycharm": {
     "name": "#%%\n"
    }
   },
   "outputs": [],
   "source": [
    "# Read the processed data directly\n",
    "y = pd.read_csv('../../Data/Result/Our/latency_throughput_pred_max_min.csv')\n",
    "y"
   ]
  },
  {
   "cell_type": "code",
   "execution_count": null,
   "id": "2efc2398",
   "metadata": {
    "pycharm": {
     "name": "#%%\n"
    }
   },
   "outputs": [],
   "source": [
    "alpha = 0.1\n",
    "beta = 0.9"
   ]
  },
  {
   "cell_type": "code",
   "execution_count": null,
   "id": "0d1966d5",
   "metadata": {
    "pycharm": {
     "name": "#%%\n"
    }
   },
   "outputs": [],
   "source": [
    "latency_score = alpha * ((y['latency_max'] - y['latency_pred']) / (y['latency_max'] - y['latency_min']))"
   ]
  },
  {
   "cell_type": "code",
   "execution_count": null,
   "id": "3be2eb6b",
   "metadata": {
    "pycharm": {
     "name": "#%%\n"
    }
   },
   "outputs": [],
   "source": [
    "throughput_score = beta * ((y['throughput_pred'] - y['throughput_min']) / (y['throughput_max'] - y['throughput_min']))"
   ]
  },
  {
   "cell_type": "code",
   "execution_count": null,
   "id": "bc969f7e",
   "metadata": {
    "pycharm": {
     "name": "#%%\n"
    }
   },
   "outputs": [],
   "source": [
    "y_score = latency_score.values + throughput_score.values\n",
    "y_score"
   ]
  },
  {
   "cell_type": "code",
   "execution_count": null,
   "id": "666933c3",
   "metadata": {
    "pycharm": {
     "name": "#%%\n"
    }
   },
   "outputs": [],
   "source": [
    "y['score'] = y_score"
   ]
  },
  {
   "cell_type": "code",
   "execution_count": null,
   "id": "a18dcc65",
   "metadata": {
    "pycharm": {
     "name": "#%%\n"
    }
   },
   "outputs": [],
   "source": [
    "y.to_csv('../../Data/Result/Our/latency_throughput_score_alpha' + str(alpha) + '_beta' + str(beta) + '.csv')"
   ]
  },
  {
   "cell_type": "code",
   "execution_count": null,
   "id": "d69eb76b",
   "metadata": {
    "pycharm": {
     "name": "#%%\n"
    }
   },
   "outputs": [],
   "source": [
    "y"
   ]
  },
  {
   "cell_type": "code",
   "execution_count": null,
   "id": "d5522d9a",
   "metadata": {
    "pycharm": {
     "name": "#%%\n"
    }
   },
   "outputs": [],
   "source": []
  },
  {
   "cell_type": "code",
   "execution_count": null,
   "id": "b3e1cab2",
   "metadata": {
    "pycharm": {
     "name": "#%%\n"
    }
   },
   "outputs": [],
   "source": []
  },
  {
   "cell_type": "code",
   "execution_count": null,
   "id": "70770950",
   "metadata": {
    "pycharm": {
     "name": "#%%\n"
    }
   },
   "outputs": [],
   "source": []
  },
  {
   "cell_type": "code",
   "execution_count": null,
   "id": "2abc3931",
   "metadata": {
    "pycharm": {
     "name": "#%%\n"
    }
   },
   "outputs": [],
   "source": []
  },
  {
   "cell_type": "code",
   "execution_count": null,
   "id": "7cbc9c1a",
   "metadata": {
    "pycharm": {
     "name": "#%%\n"
    }
   },
   "outputs": [],
   "source": []
  },
  {
   "cell_type": "code",
   "execution_count": null,
   "id": "1348d3e5",
   "metadata": {
    "pycharm": {
     "name": "#%%\n"
    }
   },
   "outputs": [],
   "source": []
  }
 ],
 "metadata": {
  "kernelspec": {
   "display_name": "Python 3 (ipykernel)",
   "language": "python",
   "name": "python3"
  },
  "language_info": {
   "codemirror_mode": {
    "name": "ipython",
    "version": 3
   },
   "file_extension": ".py",
   "mimetype": "text/x-python",
   "name": "python",
   "nbconvert_exporter": "python",
   "pygments_lexer": "ipython3",
   "version": "3.10.7"
  },
  "toc": {
   "base_numbering": 1,
   "nav_menu": {},
   "number_sections": true,
   "sideBar": false,
   "skip_h1_title": false,
   "title_cell": "Table of Contents",
   "title_sidebar": "Contents",
   "toc_cell": false,
   "toc_position": {
    "height": "280.281px",
    "left": "1365.86px",
    "top": "537.052px",
    "width": "297.438px"
   },
   "toc_section_display": true,
   "toc_window_display": true
  },
  "varInspector": {
   "cols": {
    "lenName": 16,
    "lenType": 16,
    "lenVar": 40
   },
   "kernels_config": {
    "python": {
     "delete_cmd_postfix": "",
     "delete_cmd_prefix": "del ",
     "library": "var_list.py",
     "varRefreshCmd": "print(var_dic_list())"
    },
    "r": {
     "delete_cmd_postfix": ") ",
     "delete_cmd_prefix": "rm(",
     "library": "var_list.r",
     "varRefreshCmd": "cat(var_dic_list()) "
    }
   },
   "types_to_exclude": [
    "module",
    "function",
    "builtin_function_or_method",
    "instance",
    "_Feature"
   ],
   "window_display": false
  }
 },
 "nbformat": 4,
 "nbformat_minor": 5
}